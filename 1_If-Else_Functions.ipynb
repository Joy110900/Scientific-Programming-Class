{
 "cells": [
  {
   "cell_type": "markdown",
   "metadata": {},
   "source": [
    "# Scientific Programming"
   ]
  },
  {
   "cell_type": "markdown",
   "metadata": {},
   "source": [
    "# Practical 1"
   ]
  },
  {
   "cell_type": "markdown",
   "metadata": {},
   "source": [
    "## Name: Joy Mehta"
   ]
  },
  {
   "cell_type": "markdown",
   "metadata": {},
   "source": [
    "## Roll No.: 18BIC026"
   ]
  },
  {
   "cell_type": "markdown",
   "metadata": {},
   "source": [
    "## 1.1 \n",
    "Write a function areaTriangle that takes the lengths of\n",
    "three sides of the triangle as input parameters and returns\n",
    "the area of the triangle as an output. Also, assert that the\n",
    "sum of the length of any two sides is higher than the third\n",
    "side."
   ]
  },
  {
   "cell_type": "code",
   "execution_count": 56,
   "metadata": {},
   "outputs": [
    {
     "name": "stdout",
     "output_type": "stream",
     "text": [
      "Enter length of first side of triangle: 2\n",
      "Enter length of second side of triangle: 2\n",
      "Enter length of first side of triangle: 2\n",
      "Area of Triangle = 1.732\n"
     ]
    }
   ],
   "source": [
    "l1 = int(input(\"Enter length of first side of triangle: \"))\n",
    "l2 = int(input(\"Enter length of second side of triangle: \"))\n",
    "l3 = int(input(\"Enter length of first side of triangle: \"))\n",
    "\n",
    "def checktraingle(l1, l2, l3):\n",
    "    if l1 + l2 <= l3:\n",
    "        return False\n",
    "    elif l1 + l3 <= l2:\n",
    "        return False\n",
    "    elif l2 + l3 <= l1:\n",
    "        return False\n",
    "    else:\n",
    "        return True\n",
    "    \n",
    "if(checktraingle(l1, l2, l3)):\n",
    "    p = (l1 + l2 + l3) / 2\n",
    "    area = (p * (p-l1) * (p-l2) * (p-l3)) ** 0.5\n",
    "    print(\"Area of Triangle = {:.3f}\".format(area))\n",
    "    \n",
    "else:\n",
    "    print(\"The triangle is not valid.\")"
   ]
  },
  {
   "cell_type": "markdown",
   "metadata": {},
   "source": [
    "## 1.3"
   ]
  },
  {
   "cell_type": "markdown",
   "metadata": {},
   "source": [
    "Write a function that takes two numbers as input\n",
    "parameters and returns True or False depending on\n",
    "whether they are co-primes. Two numbers are said to be\n",
    "co-prime if they do not have any common divisor other\n",
    "than one."
   ]
  },
  {
   "cell_type": "code",
   "execution_count": 58,
   "metadata": {},
   "outputs": [
    {
     "name": "stdout",
     "output_type": "stream",
     "text": [
      "Enter first value to check for co-primes: 2\n",
      "Enter second value to check for co-primes: 3\n",
      "2 and 3 are coprime.\n"
     ]
    }
   ],
   "source": [
    "from math import gcd\n",
    "def coprime(a, b):\n",
    "    if gcd(a, b) == 1:\n",
    "        return True\n",
    "    else: \n",
    "        return False\n",
    "    \n",
    "d = int(input(\"Enter first value to check for co-primes: \"))\n",
    "e = int(input(\"Enter second value to check for co-primes: \"))\n",
    "if(coprime(d,e)):\n",
    "    print(\"{} and {} are coprime.\".format(d, e))\n",
    "else:\n",
    "    print(\"{} and {} are not coprime.\".format(d, e))"
   ]
  },
  {
   "cell_type": "markdown",
   "metadata": {},
   "source": [
    "## 1.4"
   ]
  },
  {
   "cell_type": "markdown",
   "metadata": {},
   "source": [
    "Write a function that takes a string as a parameter and\n",
    "returns a string with every successive repetitive character\n",
    "replaced with a star(*). For Example, ‘balloon’ is returned\n",
    "as ‘bal*o*n’."
   ]
  },
  {
   "cell_type": "code",
   "execution_count": 61,
   "metadata": {},
   "outputs": [
    {
     "name": "stdout",
     "output_type": "stream",
     "text": [
      "Enter a string to replace repeating characters: mississippi\n",
      "mis*is*ip*i\n"
     ]
    }
   ],
   "source": [
    "s = input(\"Enter a string to replace repeating characters: \")\n",
    "def split(word): #Split by character\n",
    "    return [char for char in word]  \n",
    "l = split(s)\n",
    "for i in range(len(l) - 1):\n",
    "    if l[i] == l[i+1]:\n",
    "        l[i+1] = \"*\"     \n",
    "s = \"\"\n",
    "for i in l:\n",
    "    s += i\n",
    "print(s)"
   ]
  },
  {
   "cell_type": "markdown",
   "metadata": {},
   "source": [
    "## 1.5"
   ]
  },
  {
   "cell_type": "markdown",
   "metadata": {},
   "source": [
    "Write a function that takes a number as n input parameter\n",
    "and returns the corresponding text in words; for example,\n",
    "on input 452, the function should return ‘Four Five Two’.\n",
    "Use a dictionary for mapping to digits to their string\n",
    "representation"
   ]
  },
  {
   "cell_type": "code",
   "execution_count": 64,
   "metadata": {},
   "outputs": [],
   "source": [
    "numdict = {0: 'Zero', 1: 'One', 2: 'Two', 3: 'Three', 4: 'Four', 5: 'Five', \\\n",
    "              6: 'Six', 7: 'Seven', 8: 'Eight', 9: 'Nine', 10: 'Ten'} "
   ]
  },
  {
   "cell_type": "code",
   "execution_count": 65,
   "metadata": {},
   "outputs": [
    {
     "name": "stdout",
     "output_type": "stream",
     "text": [
      "Enter a number: 42069\n",
      "Four Two Zero Six Nine \n"
     ]
    }
   ],
   "source": [
    "n = input(\"Enter a number: \")\n",
    "num2word = \"\"\n",
    "for i in n:\n",
    "    num2word += numdict[int(i)] + ' '\n",
    "    \n",
    "print(num2word)"
   ]
  },
  {
   "cell_type": "markdown",
   "metadata": {},
   "source": [
    "## 1.6"
   ]
  },
  {
   "cell_type": "markdown",
   "metadata": {},
   "source": [
    "Write a recursive function that takes x value as an input\n",
    "parameter and print x-digit strictly in increasing number.\n",
    "[i.e. x = 6 than output 67891011] "
   ]
  },
  {
   "cell_type": "code",
   "execution_count": 66,
   "metadata": {},
   "outputs": [
    {
     "name": "stdout",
     "output_type": "stream",
     "text": [
      "Enter a number: 8\n",
      "89101112131415"
     ]
    }
   ],
   "source": [
    "k = int(input(\"Enter a number: \"))\n",
    "lim = k\n",
    "def incorder(num, lim):\n",
    "    if lim <= 0:\n",
    "        return\n",
    "    else:\n",
    "        print(num, end='')\n",
    "        return(incorder(num+1, lim-1))\n",
    "incorder(k, k)"
   ]
  }
 ],
 "metadata": {
  "kernelspec": {
   "display_name": "Python 3",
   "language": "python",
   "name": "python3"
  },
  "language_info": {
   "codemirror_mode": {
    "name": "ipython",
    "version": 3
   },
   "file_extension": ".py",
   "mimetype": "text/x-python",
   "name": "python",
   "nbconvert_exporter": "python",
   "pygments_lexer": "ipython3",
   "version": "3.7.7"
  }
 },
 "nbformat": 4,
 "nbformat_minor": 4
}
