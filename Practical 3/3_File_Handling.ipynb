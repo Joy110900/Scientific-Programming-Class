{
 "cells": [
  {
   "cell_type": "code",
   "execution_count": null,
   "metadata": {},
   "outputs": [],
   "source": []
  },
  {
   "cell_type": "code",
   "execution_count": 1,
   "metadata": {},
   "outputs": [],
   "source": [
    "f = open(\"test.txt\",\"x\")"
   ]
  },
  {
   "cell_type": "code",
   "execution_count": 8,
   "metadata": {},
   "outputs": [
    {
     "data": {
      "text/plain": [
       "'This is a test file for the scientific programming session.'"
      ]
     },
     "execution_count": 8,
     "metadata": {},
     "output_type": "execute_result"
    }
   ],
   "source": [
    "f = open(\"test.txt\", \"r\")\n",
    "f.read()"
   ]
  },
  {
   "cell_type": "code",
   "execution_count": 6,
   "metadata": {},
   "outputs": [
    {
     "data": {
      "text/plain": [
       "59"
      ]
     },
     "execution_count": 6,
     "metadata": {},
     "output_type": "execute_result"
    }
   ],
   "source": [
    "f = open(\"test.txt\", \"w\")\n",
    "f.write(\"This is a test file for the scientific programming session.\")"
   ]
  },
  {
   "cell_type": "code",
   "execution_count": 9,
   "metadata": {},
   "outputs": [],
   "source": [
    "f.close()"
   ]
  },
  {
   "cell_type": "code",
   "execution_count": 47,
   "metadata": {},
   "outputs": [],
   "source": [
    "import os\n",
    "os.remove(\"test.txt\")"
   ]
  },
  {
   "cell_type": "markdown",
   "metadata": {},
   "source": [
    "# 3.1"
   ]
  },
  {
   "cell_type": "markdown",
   "metadata": {},
   "source": [
    "Write a python program that reads the contents of the file\n",
    "poem.txt and count the number of:- \n",
    "* alphabets \n",
    "* blank spaces\n",
    "* lowercase letters \n",
    "* uppercase letters \n",
    "* words starting from vowel\n",
    "* occurrences of each word in the file."
   ]
  },
  {
   "cell_type": "code",
   "execution_count": 113,
   "metadata": {},
   "outputs": [],
   "source": [
    "#Writing a poem to the file\n",
    "with open(\"poem.txt\", \"w\") as f:\n",
    "    f.write(\"Where the mind is without fear and the head is held high \\n \\\n",
    "Where knowledge is free \\n \\\n",
    "Where the world has not been broken up into fragments \\n \\\n",
    "By narrow domestic walls \\n \\\n",
    "Where words come out from the depth of truth \\n \\\n",
    "Where tireless striving stretches its arms towards perfection \\n \\\n",
    "Where the clear stream of reason has not lost its way \\n \\\n",
    "Into the dreary desert sand of dead habit \\n \\\n",
    "Where the mind is led forward by thee \\n \\\n",
    "Into ever-widening thought and action — \\n \\\n",
    "Into that heaven of freedom , my Father, let my country awake.\")"
   ]
  },
  {
   "cell_type": "code",
   "execution_count": 114,
   "metadata": {},
   "outputs": [
    {
     "name": "stdout",
     "output_type": "stream",
     "text": [
      "Where the mind is without fear and the head is held high \n",
      " Where knowledge is free \n",
      " Where the world has not been broken up into fragments \n",
      " By narrow domestic walls \n",
      " Where words come out from the depth of truth \n",
      " Where tireless striving stretches its arms towards perfection \n",
      " Where the clear stream of reason has not lost its way \n",
      " Into the dreary desert sand of dead habit \n",
      " Where the mind is led forward by thee \n",
      " Into ever-widening thought and action — \n",
      " Into that heaven of freedom , my Father, let my country awake.\n"
     ]
    }
   ],
   "source": [
    "#Writing a \n",
    "with open(\"poem.txt\", \"r\") as f:\n",
    "    d = f.read()\n",
    "    \n",
    "print(d)"
   ]
  },
  {
   "cell_type": "code",
   "execution_count": 103,
   "metadata": {},
   "outputs": [
    {
     "name": "stdout",
     "output_type": "stream",
     "text": [
      "{'W': 7, 'h': 31, 'e': 61, 'r': 35, ' ': 103, 't': 42, 'm': 11, 'i': 20, 'n': 24, 'd': 21, 's': 24, 'w': 11, 'o': 29, 'u': 6, 'f': 11, 'a': 26, 'l': 10, 'g': 6, '\\n': 10, 'k': 3, 'b': 4, 'p': 3, 'B': 1, 'y': 7, 'c': 7, 'v': 3, 'I': 3, '-': 1, '—': 1, ',': 2, 'F': 1, '.': 1}\n"
     ]
    }
   ],
   "source": [
    "\n",
    "c = {}\n",
    "for i in d:\n",
    "    if i not in c.keys():\n",
    "        c[i] = 1\n",
    "        \n",
    "    else:\n",
    "        c[i] += 1\n",
    "        \n",
    "print(c)"
   ]
  },
  {
   "cell_type": "code",
   "execution_count": 104,
   "metadata": {},
   "outputs": [
    {
     "name": "stdout",
     "output_type": "stream",
     "text": [
      "22\n"
     ]
    }
   ],
   "source": [
    "#Count no. of individual alphabets in the file\n",
    "alphabets = 0\n",
    "temp = d.lower()\n",
    "tempdict = {}\n",
    "for i in temp:\n",
    "    if i not in tempdict.keys():\n",
    "        tempdict[i] = 1\n",
    "        \n",
    "    else:\n",
    "        tempdict[i] += 1\n",
    "\n",
    "for i in tempdict.keys():\n",
    "    if (i >= 'a' and i<= 'z') or (i >= 'A' and i<= 'Z'):\n",
    "        alphabets += 1\n",
    "        \n",
    "print(alphabets)"
   ]
  },
  {
   "cell_type": "code",
   "execution_count": 105,
   "metadata": {},
   "outputs": [
    {
     "name": "stdout",
     "output_type": "stream",
     "text": [
      "103\n"
     ]
    }
   ],
   "source": [
    "#Count no. of blank spaces in the file\n",
    "blank_spaces = d.count(\" \")\n",
    "\n",
    "print(blank_spaces)"
   ]
  },
  {
   "cell_type": "code",
   "execution_count": 106,
   "metadata": {},
   "outputs": [
    {
     "name": "stdout",
     "output_type": "stream",
     "text": [
      "12\n",
      "395\n"
     ]
    }
   ],
   "source": [
    "#Count no. of lower and upper case characters in the file\n",
    "upper_case = 0\n",
    "lower_case = 0\n",
    "for i in d:\n",
    "    if (i >= 'a' and i<= 'z'):\n",
    "        lower_case += 1\n",
    "        \n",
    "    elif (i >= 'A' and i<= 'Z'):\n",
    "        upper_case += 1\n",
    "        \n",
    "print(upper_case)\n",
    "print(lower_case)"
   ]
  },
  {
   "cell_type": "code",
   "execution_count": 116,
   "metadata": {},
   "outputs": [
    {
     "name": "stdout",
     "output_type": "stream",
     "text": [
      "22\n"
     ]
    }
   ],
   "source": [
    "#Count no. of words starting from a vowel in the file\n",
    "vowel = ['a', 'e', 'i', 'o', 'u', 'A', 'E', 'I', 'O', 'U']\n",
    "word_vowel = 0\n",
    "temp = d.split(\" \")\n",
    "for i in temp:\n",
    "    if i[0] in vowel:\n",
    "        word_vowel += 1\n",
    "print(word_vowel)"
   ]
  },
  {
   "cell_type": "code",
   "execution_count": 117,
   "metadata": {},
   "outputs": [
    {
     "name": "stdout",
     "output_type": "stream",
     "text": [
      "{'Where': 7, 'the': 7, 'mind': 2, 'is': 4, 'without': 1, 'fear': 1, 'and': 2, 'head': 1, 'held': 1, 'high': 1, '\\n': 10, 'knowledge': 1, 'free': 1, 'world': 1, 'has': 2, 'not': 2, 'been': 1, 'broken': 1, 'up': 1, 'into': 1, 'fragments': 1, 'By': 1, 'narrow': 1, 'domestic': 1, 'walls': 1, 'words': 1, 'come': 1, 'out': 1, 'from': 1, 'depth': 1, 'of': 4, 'truth': 1, 'tireless': 1, 'striving': 1, 'stretches': 1, 'its': 2, 'arms': 1, 'towards': 1, 'perfection': 1, 'clear': 1, 'stream': 1, 'reason': 1, 'lost': 1, 'way': 1, 'Into': 3, 'dreary': 1, 'desert': 1, 'sand': 1, 'dead': 1, 'habit': 1, 'led': 1, 'forward': 1, 'by': 1, 'thee': 1, 'ever-widening': 1, 'thought': 1, 'action': 1, '—': 1, 'that': 1, 'heaven': 1, 'freedom': 1, ',': 1, 'my': 2, 'Father,': 1, 'let': 1, 'country': 1, 'awake.': 1}\n"
     ]
    }
   ],
   "source": [
    "#Count occurence of each word in the file\n",
    "words = d.split(\" \")\n",
    "wrdcnt = {}\n",
    "\n",
    "for i in words:\n",
    "    if i not in wrdcnt.keys():\n",
    "        wrdcnt[i] = 1\n",
    "        \n",
    "    else:\n",
    "        wrdcnt[i] += 1\n",
    "        \n",
    "print(wrdcnt)"
   ]
  },
  {
   "cell_type": "markdown",
   "metadata": {},
   "source": [
    "# 3.2"
   ]
  },
  {
   "cell_type": "markdown",
   "metadata": {},
   "source": [
    "An organization wants to compute monthly wages to be\n",
    "paid to an employee in an organization. The input data is\n",
    "provided in two different files. File1 contains permanent\n",
    "employee data about employees (i.e. Empid, name, hourly\n",
    "wages), and File2 contains working hours information of\n",
    "each employee in the current month (i.e., empid and\n",
    "hours). Individual elements of data are separated by\n",
    "commas. Design a python program that reads both the\n",
    "files, computes the monthly wages of each employee and\n",
    "store in another file. Take both file names as command\n",
    "line arguments and check the respected exceptions for\n",
    "the same.\n",
    "\n",
    "File Format:\n",
    " * File1\n",
    "    * 1001, Vinay kumar, 40\n",
    "    * 1002, Rohit sen, 35\n",
    "    * 1003, Vinita sharma, 28\n",
    "\n",
    "* File2\n",
    "    * 1001, 250\n",
    "    * 1002, 0\n",
    "    * 1003, 125"
   ]
  },
  {
   "cell_type": "code",
   "execution_count": 4,
   "metadata": {},
   "outputs": [],
   "source": [
    "with open(\"File.txt\", \"w\") as f:\n",
    "    f.write(\"1001, Vinay Kumar, 40\\n1002, Rohit Sen, 35\\n1003, Vinita Sharma, 28\")"
   ]
  },
  {
   "cell_type": "code",
   "execution_count": 6,
   "metadata": {},
   "outputs": [],
   "source": [
    "with open(\"File2.txt\", \"w\") as f:\n",
    "    f.write(\"1001, 250\\n1002, 0\\n1003, 125\")"
   ]
  },
  {
   "cell_type": "code",
   "execution_count": 25,
   "metadata": {},
   "outputs": [],
   "source": [
    "filenames = [\"File.txt\", \"File2.txt\", \"Final_File.txt\"]"
   ]
  },
  {
   "cell_type": "code",
   "execution_count": 26,
   "metadata": {},
   "outputs": [
    {
     "name": "stdout",
     "output_type": "stream",
     "text": [
      "1001,VinayKumar,40\n",
      "1002,RohitSen,35\n",
      "1003,VinitaSharma,28\n",
      "[['1001', 'VinayKumar', '40'], ['1002', 'RohitSen', '35'], ['1003', 'VinitaSharma', '28']]\n"
     ]
    }
   ],
   "source": [
    "with open(filenames[0], \"r\") as f:\n",
    "    f1 = f.read()\n",
    "    \n",
    "f1 = f1.replace(\" \",\"\")\n",
    "print(f1)\n",
    "\n",
    "l = f1.split(\"\\n\")\n",
    "\n",
    "empdata = []\n",
    "for i in l:\n",
    "    empdata.append(i.split(\",\"))\n",
    "    \n",
    "print(empdata)"
   ]
  },
  {
   "cell_type": "code",
   "execution_count": 28,
   "metadata": {},
   "outputs": [
    {
     "name": "stdout",
     "output_type": "stream",
     "text": [
      "1001,250\n",
      "1002,0\n",
      "1003,125\n",
      "[['1001', '250'], ['1002', '0'], ['1003', '125']]\n"
     ]
    }
   ],
   "source": [
    "with open(filenames[1], \"r\") as f2:\n",
    "    f2 = f2.read()\n",
    "    \n",
    "f2 = f2.replace(\" \", \"\")\n",
    "print(f2)\n",
    "\n",
    "l1 = f2.split(\"\\n\")\n",
    "\n",
    "empwage = []\n",
    "for i in l1:\n",
    "    empwage.append(i.split(\",\"))\n",
    "    \n",
    "print(empwage)"
   ]
  },
  {
   "cell_type": "code",
   "execution_count": 29,
   "metadata": {},
   "outputs": [
    {
     "name": "stdout",
     "output_type": "stream",
     "text": [
      "[['1001', 'VinayKumar', '40', 10000.0], ['1002', 'RohitSen', '35', 0.0], ['1003', 'VinitaSharma', '28', 3500.0]]\n"
     ]
    }
   ],
   "source": [
    "for i in range(len(empdata)):\n",
    "    empdata[i].append(float(empdata[i][2]) * float(empwage[i][1]))\n",
    "    \n",
    "print(empdata)"
   ]
  },
  {
   "cell_type": "code",
   "execution_count": null,
   "metadata": {},
   "outputs": [],
   "source": [
    "s = \"\"\n",
    "import "
   ]
  },
  {
   "cell_type": "code",
   "execution_count": null,
   "metadata": {},
   "outputs": [],
   "source": [
    "with open(filenames[2], \"w\") as f3:\n",
    "    f3.write()"
   ]
  }
 ],
 "metadata": {
  "kernelspec": {
   "display_name": "Python 3",
   "language": "python",
   "name": "python3"
  },
  "language_info": {
   "codemirror_mode": {
    "name": "ipython",
    "version": 3
   },
   "file_extension": ".py",
   "mimetype": "text/x-python",
   "name": "python",
   "nbconvert_exporter": "python",
   "pygments_lexer": "ipython3",
   "version": "3.7.7"
  }
 },
 "nbformat": 4,
 "nbformat_minor": 4
}
