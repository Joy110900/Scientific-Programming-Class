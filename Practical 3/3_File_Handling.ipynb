{
 "cells": [
  {
   "cell_type": "markdown",
   "metadata": {},
   "source": [
    "# 3.1"
   ]
  },
  {
   "cell_type": "markdown",
   "metadata": {},
   "source": [
    "Write a python program that reads the contents of the file\n",
    "poem.txt and count the number of:- \n",
    "* alphabets \n",
    "* blank spaces\n",
    "* lowercase letters \n",
    "* uppercase letters \n",
    "* words starting from vowel\n",
    "* occurrences of each word in the file."
   ]
  },
  {
   "cell_type": "code",
   "execution_count": 1,
   "metadata": {
    "tags": []
   },
   "outputs": [
    {
     "name": "stdout",
     "output_type": "stream",
     "text": [
      "Where the mind is without fear and the head is held high \n",
      " Where knowledge is free \n",
      " Where the world has not been broken up into fragments \n",
      " By narrow domestic walls \n",
      " Where words come out from the depth of truth \n",
      " Where tireless striving stretches its arms towards perfection \n",
      " Where the clear stream of reason has not lost its way \n",
      " Into the dreary desert sand of dead habit \n",
      " Where the mind is led forward by thee \n",
      " Into ever-widening thought and action — \n",
      " Into that heaven of freedom , my Father, let my country awake.\n"
     ]
    }
   ],
   "source": [
    "#Reading File\n",
    "with open(\"poem.txt\", \"r\") as f:\n",
    "    d = f.read()\n",
    "    \n",
    "print(d)"
   ]
  },
  {
   "cell_type": "code",
   "execution_count": 2,
   "metadata": {
    "tags": []
   },
   "outputs": [
    {
     "name": "stdout",
     "output_type": "stream",
     "text": [
      "{'W': 7, 'h': 31, 'e': 61, 'r': 35, ' ': 101, 't': 42, 'm': 11, 'i': 20, 'n': 24, 'd': 21, 's': 24, 'w': 11, 'o': 29, 'u': 6, 'f': 11, 'a': 26, 'l': 10, 'g': 6, '\\n': 10, 'k': 3, 'b': 4, 'p': 3, 'B': 1, 'y': 7, 'c': 7, 'v': 3, 'I': 3, '-': 1, '—': 1, ',': 2, 'F': 1, '.': 1}\n"
     ]
    }
   ],
   "source": [
    "#Count no of characters and its frequency\n",
    "c = {}\n",
    "for i in d:\n",
    "    if i not in c.keys():\n",
    "        c[i] = 1\n",
    "        \n",
    "    else:\n",
    "        c[i] += 1\n",
    "        \n",
    "print(c)"
   ]
  },
  {
   "cell_type": "code",
   "execution_count": 3,
   "metadata": {
    "tags": []
   },
   "outputs": [
    {
     "name": "stdout",
     "output_type": "stream",
     "text": [
      "22\n"
     ]
    }
   ],
   "source": [
    "#Count no. of individual alphabets in the file\n",
    "alphabets = 0\n",
    "temp = d.lower()\n",
    "tempdict = {}\n",
    "for i in temp:\n",
    "    if i not in tempdict.keys():\n",
    "        tempdict[i] = 1\n",
    "        \n",
    "    else:\n",
    "        tempdict[i] += 1\n",
    "\n",
    "for i in tempdict.keys():\n",
    "    if (i >= 'a' and i<= 'z') or (i >= 'A' and i<= 'Z'):\n",
    "        alphabets += 1\n",
    "        \n",
    "print(alphabets)"
   ]
  },
  {
   "cell_type": "code",
   "execution_count": 4,
   "metadata": {
    "tags": []
   },
   "outputs": [
    {
     "name": "stdout",
     "output_type": "stream",
     "text": [
      "101\n"
     ]
    }
   ],
   "source": [
    "#Count no. of blank spaces in the file\n",
    "blank_spaces = d.count(\" \")\n",
    "\n",
    "print(blank_spaces)"
   ]
  },
  {
   "cell_type": "code",
   "execution_count": 5,
   "metadata": {
    "tags": []
   },
   "outputs": [
    {
     "name": "stdout",
     "output_type": "stream",
     "text": [
      "12\n",
      "395\n"
     ]
    }
   ],
   "source": [
    "#Count no. of lower and upper case characters in the file\n",
    "upper_case = 0\n",
    "lower_case = 0\n",
    "for i in d:\n",
    "    if (i >= 'a' and i<= 'z'):\n",
    "        lower_case += 1\n",
    "        \n",
    "    elif (i >= 'A' and i<= 'Z'):\n",
    "        upper_case += 1\n",
    "        \n",
    "print(upper_case)\n",
    "print(lower_case)"
   ]
  },
  {
   "cell_type": "code",
   "execution_count": 6,
   "metadata": {
    "tags": []
   },
   "outputs": [
    {
     "name": "stdout",
     "output_type": "stream",
     "text": [
      "22\n"
     ]
    }
   ],
   "source": [
    "#Count no. of words starting from a vowel in the file\n",
    "vowel = ['a', 'e', 'i', 'o', 'u', 'A', 'E', 'I', 'O', 'U']\n",
    "word_vowel = 0\n",
    "temp = d.split(\" \")\n",
    "for i in temp:\n",
    "    if i[0] in vowel:\n",
    "        word_vowel += 1\n",
    "print(word_vowel)"
   ]
  },
  {
   "cell_type": "code",
   "execution_count": 7,
   "metadata": {
    "tags": []
   },
   "outputs": [
    {
     "name": "stdout",
     "output_type": "stream",
     "text": [
      "{'Where': 7, 'the': 7, 'mind': 2, 'is': 4, 'without': 1, 'fear': 1, 'and': 2, 'head': 1, 'held': 1, 'high': 1, '\\n': 10, 'knowledge': 1, 'free': 1, 'world': 1, 'has': 2, 'not': 2, 'been': 1, 'broken': 1, 'up': 1, 'into': 1, 'fragments': 1, 'By': 1, 'narrow': 1, 'domestic': 1, 'walls': 1, 'words': 1, 'come': 1, 'out': 1, 'from': 1, 'depth': 1, 'of': 4, 'truth': 1, 'tireless': 1, 'striving': 1, 'stretches': 1, 'its': 2, 'arms': 1, 'towards': 1, 'perfection': 1, 'clear': 1, 'stream': 1, 'reason': 1, 'lost': 1, 'way': 1, 'Into': 3, 'dreary': 1, 'desert': 1, 'sand': 1, 'dead': 1, 'habit': 1, 'led': 1, 'forward': 1, 'by': 1, 'thee': 1, 'ever-widening': 1, 'thought': 1, 'action': 1, '—': 1, 'that': 1, 'heaven': 1, 'freedom': 1, ',': 1, 'my': 2, 'Father,': 1, 'let': 1, 'country': 1, 'awake.': 1}\n"
     ]
    }
   ],
   "source": [
    "#Count occurence of each word in the file\n",
    "words = d.split(\" \")\n",
    "wrdcnt = {}\n",
    "\n",
    "for i in words:\n",
    "    if i not in wrdcnt.keys():\n",
    "        wrdcnt[i] = 1\n",
    "        \n",
    "    else:\n",
    "        wrdcnt[i] += 1\n",
    "        \n",
    "print(wrdcnt)"
   ]
  },
  {
   "cell_type": "markdown",
   "metadata": {},
   "source": [
    "# 3.2"
   ]
  },
  {
   "cell_type": "markdown",
   "metadata": {},
   "source": [
    "An organization wants to compute monthly wages to be\n",
    "paid to an employee in an organization. The input data is\n",
    "provided in two different files. File1 contains permanent\n",
    "employee data about employees (i.e. Empid, name, hourly\n",
    "wages), and File2 contains working hours information of\n",
    "each employee in the current month (i.e., empid and\n",
    "hours). Individual elements of data are separated by\n",
    "commas. Design a python program that reads both the\n",
    "files, computes the monthly wages of each employee and\n",
    "store in another file. Take both file names as command\n",
    "line arguments and check the respected exceptions for\n",
    "the same.\n",
    "\n",
    "File Format:\n",
    " * File1\n",
    "    * 1001, Vinay kumar, 40\n",
    "    * 1002, Rohit sen, 35\n",
    "    * 1003, Vinita sharma, 28\n",
    "\n",
    "* File2\n",
    "    * 1001, 250\n",
    "    * 1002, 0\n",
    "    * 1003, 125"
   ]
  },
  {
   "cell_type": "code",
   "execution_count": 8,
   "metadata": {},
   "outputs": [],
   "source": [
    "#File Names taken by command line argument\n",
    "filenames = [\"pmtempdata.txt\", \"wrkinghrs.txt\", \"combineddata.txt\"]"
   ]
  },
  {
   "cell_type": "markdown",
   "metadata": {},
   "source": [
    "### Seperate .py file named \"Ex3.2.py\" is made to demonstrate command line arguments as command line arguments can not be passed using jupyter notebook."
   ]
  },
  {
   "cell_type": "code",
   "execution_count": 9,
   "metadata": {
    "tags": []
   },
   "outputs": [
    {
     "name": "stdout",
     "output_type": "stream",
     "text": [
      "1001,VinayKumar,40\n",
      "1002,RohitSen,35\n",
      "1003,VinitaSharma,28\n",
      "[['1001', 'VinayKumar', '40'], ['1002', 'RohitSen', '35'], ['1003', 'VinitaSharma', '28']]\n"
     ]
    }
   ],
   "source": [
    "#process data of file 1 in list\n",
    "with open(filenames[0], \"r\") as f:\n",
    "    f1 = f.read()\n",
    "    \n",
    "f1 = f1.replace(\" \",\"\")\n",
    "print(f1)\n",
    "\n",
    "l = f1.split(\"\\n\")\n",
    "\n",
    "empdata = []\n",
    "for i in l:\n",
    "    empdata.append(i.split(\",\"))\n",
    "    \n",
    "print(empdata)"
   ]
  },
  {
   "cell_type": "code",
   "execution_count": 10,
   "metadata": {
    "tags": []
   },
   "outputs": [
    {
     "name": "stdout",
     "output_type": "stream",
     "text": [
      "1001,250\n",
      "1002,0\n",
      "1003,125\n",
      "[['1001', '250'], ['1002', '0'], ['1003', '125']]\n"
     ]
    }
   ],
   "source": [
    "#process data of file 2 in list\n",
    "with open(filenames[1], \"r\") as f2:\n",
    "    f2 = f2.read()\n",
    "    \n",
    "f2 = f2.replace(\" \", \"\")\n",
    "print(f2)\n",
    "\n",
    "l1 = f2.split(\"\\n\")\n",
    "\n",
    "empwage = []\n",
    "for i in l1:\n",
    "    empwage.append(i.split(\",\"))\n",
    "    \n",
    "print(empwage)"
   ]
  },
  {
   "cell_type": "code",
   "execution_count": 11,
   "metadata": {
    "tags": []
   },
   "outputs": [
    {
     "name": "stdout",
     "output_type": "stream",
     "text": [
      "[['1001', 'VinayKumar', '40', 10000.0], ['1002', 'RohitSen', '35', 0.0], ['1003', 'VinitaSharma', '28', 3500.0]]\n"
     ]
    }
   ],
   "source": [
    "#Appending salaray of an employee in empdata calculate by multiplying \n",
    "for i in range(len(empdata)):\n",
    "    empdata[i].append(float(empdata[i][2]) * float(empwage[i][1]))\n",
    "    \n",
    "print(empdata)"
   ]
  },
  {
   "cell_type": "code",
   "execution_count": 12,
   "metadata": {
    "tags": []
   },
   "outputs": [
    {
     "name": "stdout",
     "output_type": "stream",
     "text": [
      "1001\tVinayKumar\t40\t10000.0\t\n",
      "1002\tRohitSen\t35\t0.0\t\n",
      "1003\tVinitaSharma\t28\t3500.0\t\n",
      "\n"
     ]
    }
   ],
   "source": [
    "#converting the obtained list into string\n",
    "s = \"\"\n",
    "for i in empdata:\n",
    "    for j in i:\n",
    "        s += str(j) + \"\\t\" \n",
    "    \n",
    "    s += \"\\n\"\n",
    "        \n",
    "print(s)"
   ]
  },
  {
   "cell_type": "code",
   "execution_count": 13,
   "metadata": {},
   "outputs": [],
   "source": [
    "#writing the string to a file \n",
    "with open(filenames[2], \"w\") as f3:\n",
    "    f3.write(s)"
   ]
  },
  {
   "cell_type": "code",
   "execution_count": 14,
   "metadata": {
    "tags": []
   },
   "outputs": [
    {
     "name": "stdout",
     "output_type": "stream",
     "text": [
      "1001\tVinayKumar\t40\t10000.0\t\n",
      "1002\tRohitSen\t35\t0.0\t\n",
      "1003\tVinitaSharma\t28\t3500.0\t\n",
      "\n"
     ]
    }
   ],
   "source": [
    "with open(filenames[2], \"r\") as f3:\n",
    "    print(f3.read())"
   ]
  },
  {
   "cell_type": "markdown",
   "metadata": {},
   "source": [
    "# 3.3"
   ]
  },
  {
   "cell_type": "markdown",
   "metadata": {},
   "source": [
    "More precisely, the first two lines are always present, while the\n",
    "next lines contain an arbitrary number of t values on each line,\n",
    "separated by one or more spaces.\n",
    "1. Write a function that reads the input file and returns v0\n",
    "and a list with the t values. \n",
    "2. Write a function that creates a file with two nicely\n",
    "formatted columns containing the t values to the left and\n",
    "the corresponding y values to the right. Let the t values\n",
    "appear in increasing order (note that the input file does\n",
    "not necessarily have the t values sorted).\n",
    "3. Make a test function that generates an input file, calls the\n",
    "function for reading the file, and checks that the returned\n",
    "data objects are correct.\n",
    "4. Write a function which handle the exception handling for\n",
    "the availability of file or not."
   ]
  },
  {
   "cell_type": "markdown",
   "metadata": {},
   "source": [
    "File Format:\n",
    "<br>\n",
    "v0 3.0\n",
    "<br>\n",
    "t:\n",
    "0.15592 0.28075 0.36807889 0.35 0.57681501876 0.21342619\n",
    "0.0519085 0.042 0.27 0.50620017 0.528 0.2094294 0.1117 0.53012\n",
    "0.3729850 0.39325246 0.21385894 0.3464815 0.57982969 \n",
    "0.10262264   0.29584013    0.17383923"
   ]
  },
  {
   "cell_type": "markdown",
   "metadata": {},
   "source": [
    "### Write a function that reads the input file and returns v0 and a list with the t values. "
   ]
  },
  {
   "cell_type": "code",
   "execution_count": 15,
   "metadata": {},
   "outputs": [],
   "source": [
    "def getvals(fil):\n",
    "    \"\"\"\n",
    "    Takes a file as input and returns value of t and v from it\n",
    "    \"\"\"\n",
    "    with open(fil, \"r\") as f:\n",
    "        a = f.read()\n",
    "    a = a.split(\"\\n\")\n",
    "    v = a[0]\n",
    "    t = a[1]\n",
    "    t = t.split()\n",
    "    v = v.split()\n",
    "    t.pop(0)\n",
    "    v.pop(0)\n",
    "    t = [float(x) for x in t]\n",
    "    v = [float(x) for x in v]\n",
    "    t.sort()\n",
    "    v.sort()\n",
    "    return t, v"
   ]
  },
  {
   "cell_type": "code",
   "execution_count": 16,
   "metadata": {
    "tags": []
   },
   "outputs": [
    {
     "name": "stdout",
     "output_type": "stream",
     "text": [
      "[3.0]\n",
      "[0.042, 0.0519085, 0.10262264, 0.1117, 0.15592, 0.17383923, 0.2094294, 0.21342619, 0.21385894, 0.27, 0.28075, 0.29584013, 0.3464815, 0.35, 0.36807889, 0.372985, 0.39325246, 0.50620017, 0.528, 0.53012, 0.57681501876, 0.57982969]\n"
     ]
    }
   ],
   "source": [
    "t, v = getvals(\"formulavals.txt\")\n",
    "\n",
    "print(v)\n",
    "print(t)"
   ]
  },
  {
   "cell_type": "markdown",
   "metadata": {},
   "source": [
    "### Calculating the y value with the formula and storing the values in y as a list.\n",
    "> y = V0t - 0.5*gt^2 "
   ]
  },
  {
   "cell_type": "code",
   "execution_count": 17,
   "metadata": {
    "tags": []
   },
   "outputs": [
    {
     "name": "stdout",
     "output_type": "stream",
     "text": [
      "[0.117, 0.143, 0.256, 0.274, 0.349, 0.373, 0.413, 0.417, 0.417, 0.453, 0.456, 0.459, 0.451, 0.45, 0.44, 0.437, 0.422, 0.263, 0.218, 0.213, 0.1, 0.092]\n"
     ]
    }
   ],
   "source": [
    "g = 9.8\n",
    "v0 = v[0]\n",
    "y = []\n",
    "for i in t:\n",
    "    yt = v0*i - 0.5*g*(i**2)\n",
    "    y.append(round(yt, 3))\n",
    "\n",
    "print(y)"
   ]
  },
  {
   "cell_type": "markdown",
   "metadata": {},
   "source": [
    "### Write a function that creates a file with two nicely formatted columns containing the t values to the left and the corresponding y values to the right. Let the t values appear in increasing order (note that the input file does not necessarily have the t values sorted)."
   ]
  },
  {
   "cell_type": "code",
   "execution_count": 18,
   "metadata": {
    "tags": []
   },
   "outputs": [],
   "source": [
    "import itertools\n",
    "\n",
    "def formattedcols(t, y, fname):\n",
    "    \"\"\"\n",
    "    Takes input as list of values of t and v and writes them to a file\n",
    "    \"\"\"\n",
    "    s = \"  T\\t\\t  Y\\n\"\n",
    "    for i in range(len(y)):\n",
    "        s = s + \"{}\\t\\t{}\\n\".format(round(t[i], 3), round(y[i], 3)) \n",
    "    with open(fname, \"w\") as f:\n",
    "        f.write(s)\n",
    "    print(s)"
   ]
  },
  {
   "cell_type": "code",
   "execution_count": 19,
   "metadata": {
    "tags": []
   },
   "outputs": [
    {
     "name": "stdout",
     "output_type": "stream",
     "text": [
      "  T\t\t  Y\n",
      "0.042\t\t0.117\n",
      "0.052\t\t0.143\n",
      "0.103\t\t0.256\n",
      "0.112\t\t0.274\n",
      "0.156\t\t0.349\n",
      "0.174\t\t0.373\n",
      "0.209\t\t0.413\n",
      "0.213\t\t0.417\n",
      "0.214\t\t0.417\n",
      "0.27\t\t0.453\n",
      "0.281\t\t0.456\n",
      "0.296\t\t0.459\n",
      "0.346\t\t0.451\n",
      "0.35\t\t0.45\n",
      "0.368\t\t0.44\n",
      "0.373\t\t0.437\n",
      "0.393\t\t0.422\n",
      "0.506\t\t0.263\n",
      "0.528\t\t0.218\n",
      "0.53\t\t0.213\n",
      "0.577\t\t0.1\n",
      "0.58\t\t0.092\n",
      "\n"
     ]
    }
   ],
   "source": [
    "formattedcols(t, y, \"sortedvalues.txt\")"
   ]
  },
  {
   "cell_type": "markdown",
   "metadata": {},
   "source": [
    "### Make a test function that generates an input file, calls the function for reading the file, and checks that the returned data objects are correct."
   ]
  },
  {
   "cell_type": "code",
   "execution_count": 20,
   "metadata": {},
   "outputs": [],
   "source": [
    "import random as r"
   ]
  },
  {
   "cell_type": "code",
   "execution_count": 21,
   "metadata": {},
   "outputs": [],
   "source": [
    "def testgetvals():\n",
    "    tr = []\n",
    "    vr = []\n",
    "\n",
    "    for i in range(r.randint(1, 10)):\n",
    "        vr.append(round(r.random(), 3))\n",
    "    for i in range(r.randint(1, 10)):\n",
    "        tr.append(round(r.random(), 3))\n",
    "\n",
    "    s = \"V0: \"\n",
    "    srv = \" \".join(str(g) for g in vr)\n",
    "    s += srv\n",
    "\n",
    "    st = \"\\nT: \"\n",
    "    srt = \" \".join(str(g) for g in tr)\n",
    "    st += srt\n",
    "\n",
    "    s += st\n",
    "\n",
    "    with open(\"iptest.txt\", \"w\") as w:\n",
    "        w.write(s)\n",
    "\n",
    "    t, v = getvals(\"iptest.txt\")\n",
    "\n",
    "    if (all(isinstance(x, float) for x in t)) and (all(isinstance(x, float) for x in v)):\n",
    "        print(\"The function passed all the test.\")\n",
    "        return True\n",
    "\n",
    "    else:\n",
    "        print(\"The function did not pass the test.\")\n",
    "        return False\n"
   ]
  },
  {
   "cell_type": "code",
   "execution_count": 22,
   "metadata": {
    "tags": []
   },
   "outputs": [
    {
     "name": "stdout",
     "output_type": "stream",
     "text": [
      "The function passed all the test.\n"
     ]
    },
    {
     "data": {
      "text/plain": [
       "True"
      ]
     },
     "execution_count": 22,
     "metadata": {},
     "output_type": "execute_result"
    }
   ],
   "source": [
    "testgetvals()"
   ]
  },
  {
   "cell_type": "markdown",
   "metadata": {},
   "source": [
    "### Write a function which handle the exception handling for the availability of file or not."
   ]
  },
  {
   "cell_type": "code",
   "execution_count": 23,
   "metadata": {},
   "outputs": [],
   "source": [
    "def fileexception(fname):\n",
    "    try:\n",
    "        with open(fname, \"r\") as f:\n",
    "            f.read()\n",
    "            print(\"The given file is found and can be used successfully.\")\n",
    "    except FileNotFoundError:\n",
    "        print(\"The given file does not exists.\")\n",
    "    finally:\n",
    "        print(\"File exception check completed.\")"
   ]
  },
  {
   "cell_type": "code",
   "execution_count": 24,
   "metadata": {
    "tags": []
   },
   "outputs": [
    {
     "name": "stdout",
     "output_type": "stream",
     "text": [
      "The given file does not exists.\n",
      "File exception check completed.\n"
     ]
    }
   ],
   "source": [
    "fileexception(\"nonexistent.txt\")"
   ]
  },
  {
   "cell_type": "code",
   "execution_count": 25,
   "metadata": {
    "tags": []
   },
   "outputs": [
    {
     "name": "stdout",
     "output_type": "stream",
     "text": [
      "The given file is found and can be used successfully.\n",
      "File exception check completed.\n"
     ]
    }
   ],
   "source": [
    "fileexception(\"poem.txt\")"
   ]
  }
 ],
 "metadata": {
  "kernelspec": {
   "display_name": "Python 3",
   "language": "python",
   "name": "python3"
  },
  "language_info": {
   "codemirror_mode": {
    "name": "ipython",
    "version": 3
   },
   "file_extension": ".py",
   "mimetype": "text/x-python",
   "name": "python",
   "nbconvert_exporter": "python",
   "pygments_lexer": "ipython3",
   "version": "3.7.7"
  }
 },
 "nbformat": 4,
 "nbformat_minor": 4
}
