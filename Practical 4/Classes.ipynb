{
 "metadata": {
  "language_info": {
   "codemirror_mode": {
    "name": "ipython",
    "version": 3
   },
   "file_extension": ".py",
   "mimetype": "text/x-python",
   "name": "python",
   "nbconvert_exporter": "python",
   "pygments_lexer": "ipython3",
   "version": "3.7.7-final"
  },
  "orig_nbformat": 2,
  "kernelspec": {
   "name": "python3",
   "display_name": "Python 3"
  }
 },
 "nbformat": 4,
 "nbformat_minor": 2,
 "cells": [
  {
   "cell_type": "markdown",
   "metadata": {},
   "source": [
    "# 4.1"
   ]
  },
  {
   "source": [
    "Define a class Bank that keeps track of bank customers. The class should contain the following data member:\n",
    "\n",
    "* name - Name of customer\n",
    "* accountNum - Account Number\n",
    "* type - Account Type\n",
    "* amount - Amount deposited in the bank account interest Interest earned by the customer\n",
    "\n",
    "The class should support the following methods:\n",
    ">1. __init__ for initializing the data members.\n",
    "2. deposit for depositing money in the members.\n",
    "3. withdrawal for withdrawing money from the account\n",
    "4. findInterest that determines the interest on the basis of amount in the account"
   ],
   "cell_type": "markdown",
   "metadata": {}
  },
  {
   "cell_type": "code",
   "execution_count": 3,
   "metadata": {
    "tags": []
   },
   "outputs": [],
   "source": [
    "class bank:\n",
    "    __name = str #Name of Customer\n",
    "    __accnum = str #AccountNumber\n",
    "    __type = str #Account Type\n",
    "    __amt = float #Amount deposited\n",
    "    __interest = float #Interest on the amount deposited\n",
    "\n",
    "    def __init__(self, name, accnum, amt, typ3=\"Savings Acoount\"):\n",
    "        self.__name = name\n",
    "        self.__accnum = accnum\n",
    "        self.__type = typ3\n",
    "        self.__amt = amt\n",
    "\n",
    "    def deposit(self, depamt):\n",
    "        self.__amt += depamt\n",
    "        print(\"Bank Balance = {}\".format(self.__amt))\n",
    "\n",
    "    def withdraw(self, drawamt):\n",
    "        self.__amt -= drawamt\n",
    "        print(\"Bank Balance = {}\".format(self.__amt))\n",
    "\n",
    "    def interest(self):\n",
    "        rate1 = 1\n",
    "        if self.__amt >= 5_00_000:\n",
    "            rate1 = 8\n",
    "\n",
    "        elif self.__amt >= 3_00_000:\n",
    "            rate1 = 7\n",
    "\n",
    "        elif self.__amt >= 1_00_000:\n",
    "            rate1 = 5\n",
    "\n",
    "        else:\n",
    "            rate1 = 3\n",
    "\n",
    "        self.__interest = self.__amt * rate1 * 0.001\n",
    "        print(\"Simple Interest for 1 year at {}% ROI = {}\".format(rate1, self.__interest))\n",
    "        return self.__interest\n",
    "\n",
    "    def details(self):\n",
    "        print(\"Name - \", self.__name)\n",
    "        print(\"Account Number -\", self.__accnum)\n",
    "        print(\"Balance -\", self.__amt)\n",
    "        print(\"Account Type -\", self.__type)"
   ]
  },
  {
   "cell_type": "code",
   "execution_count": 4,
   "metadata": {},
   "outputs": [],
   "source": [
    "b1 = bank(\"Joy\", \"1654385\", 12345)"
   ]
  },
  {
   "cell_type": "code",
   "execution_count": 5,
   "metadata": {
    "tags": []
   },
   "outputs": [
    {
     "output_type": "stream",
     "name": "stdout",
     "text": "Name -  Joy\nAccount Number - 1654385\nBalance - 12345\nAccount Type - Savings Acoount\n"
    }
   ],
   "source": [
    "b1.details()"
   ]
  },
  {
   "cell_type": "code",
   "execution_count": 6,
   "metadata": {
    "tags": []
   },
   "outputs": [
    {
     "output_type": "stream",
     "name": "stdout",
     "text": "Simple Interest for 1 year at 3% ROI = 37.035000000000004\n"
    },
    {
     "output_type": "execute_result",
     "data": {
      "text/plain": "37.035000000000004"
     },
     "metadata": {},
     "execution_count": 6
    }
   ],
   "source": [
    "b1.interest()"
   ]
  },
  {
   "cell_type": "code",
   "execution_count": 7,
   "metadata": {
    "tags": []
   },
   "outputs": [
    {
     "output_type": "stream",
     "name": "stdout",
     "text": "Bank Balance = 512345\n"
    }
   ],
   "source": [
    "b1.deposit(500000)"
   ]
  },
  {
   "cell_type": "code",
   "execution_count": 8,
   "metadata": {
    "tags": []
   },
   "outputs": [
    {
     "output_type": "stream",
     "name": "stdout",
     "text": "Simple Interest for 1 year at 8% ROI = 4098.76\n"
    },
    {
     "output_type": "execute_result",
     "data": {
      "text/plain": "4098.76"
     },
     "metadata": {},
     "execution_count": 8
    }
   ],
   "source": [
    "b1.interest()"
   ]
  },
  {
   "cell_type": "code",
   "execution_count": 9,
   "metadata": {
    "tags": []
   },
   "outputs": [
    {
     "output_type": "stream",
     "name": "stdout",
     "text": "Bank Balance = 412345\n"
    }
   ],
   "source": [
    "b1.withdraw(100000)"
   ]
  },
  {
   "cell_type": "code",
   "execution_count": 10,
   "metadata": {
    "tags": []
   },
   "outputs": [
    {
     "output_type": "stream",
     "name": "stdout",
     "text": "Simple Interest for 1 year at 7% ROI = 2886.415\n"
    },
    {
     "output_type": "execute_result",
     "data": {
      "text/plain": "2886.415"
     },
     "metadata": {},
     "execution_count": 10
    }
   ],
   "source": [
    "b1.interest()"
   ]
  },
  {
   "cell_type": "code",
   "execution_count": 11,
   "metadata": {
    "tags": []
   },
   "outputs": [
    {
     "output_type": "stream",
     "name": "stdout",
     "text": "Name -  Joy\nAccount Number - 1654385\nBalance - 412345\nAccount Type - Savings Acoount\n"
    }
   ],
   "source": [
    "b1.details()"
   ]
  },
  {
   "source": [
    "# 4.2"
   ],
   "cell_type": "markdown",
   "metadata": {}
  },
  {
   "source": [
    "Define a base class Person, having attributes name,birthdate and city. \n",
    "* Define the class Student that derives from Person class which is having attributes like rollno,branch, totalMarks and year as data member. The class should contain the instance method __init__ and the abstract method percentage. \n",
    "* Define two classes Grad andPostGrad which inherit from the base class Student. Both the classes should define their __init__ method whichasks user t enter totalMarks value and should override theabstract method percentage of the superclass. \n",
    "\n",
    "Note that total Marks obtained are out of 600 and 400 for Grad and PostGrad classes respectively\n"
   ],
   "cell_type": "markdown",
   "metadata": {}
  },
  {
   "cell_type": "code",
   "execution_count": 12,
   "metadata": {},
   "outputs": [],
   "source": [
    "from abc import ABC, abstractmethod"
   ]
  },
  {
   "cell_type": "code",
   "execution_count": 13,
   "metadata": {},
   "outputs": [],
   "source": [
    "class person:\n",
    "    _name = str\n",
    "    _bday = str\n",
    "    _city = str\n",
    "    def __init__(self):\n",
    "        self._name = str(input(\"Enter your name: \"))\n",
    "        self._bday = str(input(\"Enter your BirthDate in DD-MM-YYYY format: \"))\n",
    "        self._city = str(input(\"Enter your City: \"))\n",
    "\n",
    "    def details(self):\n",
    "        print(\"Name -\", self._name)\n",
    "        print(\"Birthday -\",self._bday)\n",
    "        print(\"City -\", self._city)\n",
    "\n",
    "class student(ABC, person):\n",
    "    _roll = int\n",
    "    _branch = str\n",
    "    _marks = int\n",
    "    _year = int\n",
    "\n",
    "    def __init__(self):\n",
    "        self._roll = str(input(\"Enter your Roll no.: \"))\n",
    "        self._branch = str(input(\"Enter your branch: \"))\n",
    "        self._marks = str(input(\"Enter your marks: \"))\n",
    "        self._year = str(input(\"Enter your year of admission: \"))\n",
    "\n",
    "    @abstractmethod\n",
    "    def percent(self):\n",
    "        pass\n",
    "\n",
    "class grad(student):\n",
    "    def __init__(self):\n",
    "        self.t = int(input(\"Please enter Total Marks obtained: \"))\n",
    "\n",
    "    def percent(self):\n",
    "        self.percent = self.t/6\n",
    "        return self.t/6\n",
    "\n",
    "class postgrad(student):\n",
    "    def __init__(self):\n",
    "        self.t = int(input(\"Please enter Total Marks obtained: \"))\n",
    "\n",
    "    def percent(self):\n",
    "        self.percent = self.t/4\n",
    "        return self.t/4"
   ]
  },
  {
   "cell_type": "code",
   "execution_count": 14,
   "metadata": {},
   "outputs": [],
   "source": [
    "p1 = person()"
   ]
  },
  {
   "cell_type": "code",
   "execution_count": 15,
   "metadata": {
    "tags": []
   },
   "outputs": [
    {
     "output_type": "stream",
     "name": "stdout",
     "text": "Name - Joy\nBirthday - 11-09-2000\nCity - Ahmedabad\n"
    }
   ],
   "source": [
    "p1.details()"
   ]
  },
  {
   "cell_type": "code",
   "execution_count": 22,
   "metadata": {},
   "outputs": [],
   "source": [
    "g = grad()"
   ]
  },
  {
   "cell_type": "code",
   "execution_count": 23,
   "metadata": {
    "tags": []
   },
   "outputs": [
    {
     "output_type": "execute_result",
     "data": {
      "text/plain": "66.66666666666667"
     },
     "metadata": {},
     "execution_count": 23
    }
   ],
   "source": [
    "g.percent()"
   ]
  },
  {
   "cell_type": "code",
   "execution_count": 26,
   "metadata": {},
   "outputs": [],
   "source": [
    "pg = postgrad()"
   ]
  },
  {
   "cell_type": "code",
   "execution_count": 27,
   "metadata": {},
   "outputs": [
    {
     "output_type": "execute_result",
     "data": {
      "text/plain": "75.0"
     },
     "metadata": {},
     "execution_count": 27
    }
   ],
   "source": [
    "pg.percent()"
   ]
  }
 ]
}