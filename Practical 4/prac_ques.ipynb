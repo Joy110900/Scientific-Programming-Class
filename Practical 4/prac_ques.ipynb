{
 "metadata": {
  "language_info": {
   "codemirror_mode": {
    "name": "ipython",
    "version": 3
   },
   "file_extension": ".py",
   "mimetype": "text/x-python",
   "name": "python",
   "nbconvert_exporter": "python",
   "pygments_lexer": "ipython3",
   "version": 3
  },
  "orig_nbformat": 2
 },
 "nbformat": 4,
 "nbformat_minor": 2,
 "cells": [
  {
   "source": [
    "# Practice Question for inheritance"
   ],
   "cell_type": "markdown",
   "metadata": {}
  },
  {
   "source": [
    "![Quesion](prac_ques.png)"
   ],
   "cell_type": "markdown",
   "metadata": {}
  },
  {
   "cell_type": "code",
   "execution_count": null,
   "metadata": {},
   "outputs": [],
   "source": [
    "class flower:\n",
    "    __name = str\n",
    "    __ppkg = int\n",
    "    __stock = int\n",
    "    def __init__(self):\n",
    "        __name = None\n",
    "        __ppkg = None\n",
    "        __stock = None\n",
    "\n",
    "        "
   ]
  }
 ]
}