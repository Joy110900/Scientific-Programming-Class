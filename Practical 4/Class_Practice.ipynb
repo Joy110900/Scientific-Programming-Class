{
 "metadata": {
  "language_info": {
   "codemirror_mode": {
    "name": "ipython",
    "version": 3
   },
   "file_extension": ".py",
   "mimetype": "text/x-python",
   "name": "python",
   "nbconvert_exporter": "python",
   "pygments_lexer": "ipython3",
   "version": "3.7.7-final"
  },
  "orig_nbformat": 2,
  "kernelspec": {
   "name": "python3",
   "display_name": "Python 3"
  }
 },
 "nbformat": 4,
 "nbformat_minor": 2,
 "cells": [
  {
   "cell_type": "markdown",
   "metadata": {},
   "source": [
    "# 1\n",
    "---\n",
    "A university wants to automate their admission process. Students are admitted\n",
    "based on marks scored in a qualifying exam. <br>\n",
    "A student is identified by student id, age and marks in qualifying exam. Data are\n",
    "valid, if:\n",
    "* Age is greater than 20\n",
    "* Marks is between 0 and 100 (both inclusive)\n",
    "\n",
    "A student qualifies for admission, if\n",
    "* Age and marks are valid and\n",
    "* Marks is 65 or more \n",
    "\n",
    "Write a python program to represent the students seeking admission in the university\n",
    "with and without using the concept of arrays."
   ]
  },
  {
   "cell_type": "code",
   "execution_count": 37,
   "metadata": {},
   "outputs": [],
   "source": [
    "class student():\n",
    "\n",
    "    def check_quali(self):\n",
    "        self.details()\n",
    "        if self.marks >= 65:\n",
    "                print(\"Qualified\")\n",
    "                return True\n",
    "        else:\n",
    "            print(\"Did not Qualify\")\n",
    "            return False\n",
    "        \n",
    "\n",
    "    def get_info(self):\n",
    "        self.id = str(input(\"Enter Student ID: \"))\n",
    "        self.age = int(input(\"Enter student age: \"))\n",
    "        self.marks = int(input(\"Enter student marks: \"))\n",
    "\n",
    "        while(not (self.age > 20 and self.marks >= 0 and self.marks <= 100)):\n",
    "            print(\"Data entered is not valid. Please renter proper information.\")\n",
    "            self.age = int(input(\"Enter student age: \"))\n",
    "            self.marks = int(input(\"Enter student marks: \"))       \n",
    "\n",
    "    def details(self):\n",
    "        print(\"Student Details:\")\n",
    "        print(\"Student ID -\", self.id)\n",
    "        print(\"Student Age -\", self.age)\n",
    "        print(\"Student Marks -\", self.marks)"
   ]
  },
  {
   "cell_type": "code",
   "execution_count": 38,
   "metadata": {},
   "outputs": [],
   "source": [
    "s1 = student()"
   ]
  },
  {
   "cell_type": "code",
   "execution_count": 40,
   "metadata": {
    "tags": []
   },
   "outputs": [],
   "source": [
    "s1.get_info()"
   ]
  },
  {
   "cell_type": "code",
   "execution_count": 41,
   "metadata": {
    "tags": []
   },
   "outputs": [
    {
     "output_type": "stream",
     "name": "stdout",
     "text": "Student Details:\nStudent ID - 33\nStudent Age - 33\nStudent Marks - 33\nDid not Qualify\n"
    },
    {
     "output_type": "execute_result",
     "data": {
      "text/plain": "False"
     },
     "metadata": {},
     "execution_count": 41
    }
   ],
   "source": [
    "s1.check_quali()"
   ]
  },
  {
   "cell_type": "markdown",
   "metadata": {},
   "source": [
    "# 2\n",
    "---\n",
    "Write a Python class named Circle constructed by a radius and two methods which\n",
    "will compute the area and the perimeter of a circle."
   ]
  },
  {
   "cell_type": "code",
   "execution_count": 8,
   "metadata": {},
   "outputs": [],
   "source": [
    "class circle():\n",
    "    def __init__(self, r):\n",
    "        self.radius = r\n",
    "\n",
    "    def area(self):\n",
    "        a = 3.14 * (self.radius ** 2)\n",
    "        print(\"Area =\", a)\n",
    "        return a\n",
    "\n",
    "    def circum(self):\n",
    "        c = 2 * 3.14 * self.radius\n",
    "        print(\"Perimeter =\", c)\n",
    "        return c"
   ]
  },
  {
   "cell_type": "code",
   "execution_count": 3,
   "metadata": {
    "tags": []
   },
   "outputs": [
    {
     "output_type": "stream",
     "name": "stdout",
     "text": "Area = 28.26\nPerimeter = 18.84\n"
    }
   ],
   "source": [
    "c1 = circle(3)\n",
    "c1a = c1.area()\n",
    "c1p = c1.circum()"
   ]
  },
  {
   "cell_type": "code",
   "execution_count": 5,
   "metadata": {
    "tags": []
   },
   "outputs": [
    {
     "output_type": "stream",
     "name": "stdout",
     "text": "Area = 28.26\n"
    }
   ],
   "source": [
    "c2 = circle.area(c1)"
   ]
  }
 ]
}