{
 "cells": [
  {
   "cell_type": "markdown",
   "metadata": {},
   "source": [
    "1. Write a program to find the length of the string \"refrigerator\" without using len function.\n",
    "2. Write the string after the first occurrence of ',' and the string after the last occurrence of ',' in the string \"Hello, Good, Morning\". World\".\n",
    "3. Given 2 strings, s1 and s2, create a new string by appending s2 in the middle of s1.\n",
    "\n",
    "4. Write a program to make a new string with all the consonants deleted from the string \"Hello, have a good day\"."
   ]
  },
  {
   "cell_type": "code",
   "execution_count": 1,
   "metadata": {},
   "outputs": [
    {
     "name": "stdout",
     "output_type": "stream",
     "text": [
      "Length of the string = 12\n"
     ]
    }
   ],
   "source": [
    "s = \"refrigerator\"\n",
    "\n",
    "def length(s):\n",
    "    l = 0\n",
    "    for i in s:\n",
    "        l += 1\n",
    "    return l\n",
    "\n",
    "print(\"Length of the string =\", length(s))"
   ]
  },
  {
   "cell_type": "code",
   "execution_count": null,
   "metadata": {},
   "outputs": [],
   "source": []
  },
  {
   "cell_type": "code",
   "execution_count": 9,
   "metadata": {},
   "outputs": [
    {
     "name": "stdout",
     "output_type": "stream",
     "text": [
      "123456789101\n"
     ]
    }
   ],
   "source": [
    "s1 = \"12349101\"\n",
    "s2 = \"5678\"\n",
    "\n",
    "n = 0\n",
    "\n",
    "if len(s1)%2 == 0:\n",
    "    n = int(len(s1)/2)\n",
    "    \n",
    "else:\n",
    "    n = int((len(s1)+1) / 2)\n",
    "    \n",
    "s3 = s1[:n] + s2 + s1[-n:]\n",
    "\n",
    "print(s3)"
   ]
  },
  {
   "cell_type": "code",
   "execution_count": 23,
   "metadata": {},
   "outputs": [
    {
     "name": "stdout",
     "output_type": "stream",
     "text": [
      "['H', 'e', 'l', 'l', 'o', ',', ' ', 'h', 'a', 'v', 'e', ' ', 'a', ' ', 'g', 'o', 'o', 'd', ' ', 'd', 'a', 'y']\n",
      "Hl,hv  ddy\n",
      "eloaea goo a\n"
     ]
    }
   ],
   "source": [
    "stri = \"Hello, have a good day\"\n",
    "vowel = ['a', 'e', 'i', 'o', 'u']\n",
    "lstri = [x for x in stri]\n",
    "s = \"\"\n",
    "stri = \"\"\n",
    "print(lstri)\n",
    "for i in lstri:\n",
    "    if i not in vowel:\n",
    "        s += i\n",
    "        lstri.remove(i)\n",
    "        \n",
    "for i in lstri:\n",
    "    stri += i\n",
    "\n",
    "print(s)\n",
    "print(stri)"
   ]
  }
 ],
 "metadata": {
  "kernelspec": {
   "display_name": "Python 3",
   "language": "python",
   "name": "python3"
  },
  "language_info": {
   "codemirror_mode": {
    "name": "ipython",
    "version": 3
   },
   "file_extension": ".py",
   "mimetype": "text/x-python",
   "name": "python",
   "nbconvert_exporter": "python",
   "pygments_lexer": "ipython3",
   "version": "3.7.7"
  }
 },
 "nbformat": 4,
 "nbformat_minor": 4
}
