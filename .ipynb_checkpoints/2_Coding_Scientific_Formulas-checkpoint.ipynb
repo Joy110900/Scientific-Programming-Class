{
 "cells": [
  {
   "cell_type": "markdown",
   "metadata": {},
   "source": [
    "# Scientific Programming"
   ]
  },
  {
   "cell_type": "markdown",
   "metadata": {},
   "source": [
    "# Practical 2"
   ]
  },
  {
   "cell_type": "markdown",
   "metadata": {},
   "source": [
    "## 07th August, 2020"
   ]
  },
  {
   "cell_type": "markdown",
   "metadata": {},
   "source": [
    "## Name: Joy Mehta"
   ]
  },
  {
   "cell_type": "markdown",
   "metadata": {},
   "source": [
    "## Roll No.: 18BIC026"
   ]
  },
  {
   "cell_type": "markdown",
   "metadata": {},
   "source": [
    "# 2.1"
   ]
  },
  {
   "cell_type": "markdown",
   "metadata": {},
   "source": [
    "The bell shaped Gaussian function, \n",
    "fx= 1s * 2π exp [ -12 (x-ms)2]\n",
    "is one of the most widely used functions in science and\n",
    "technology. The parameters m and s > 0 are prescribed real\n",
    "numbers. Make a program for evaluating this function for\n",
    "different values of s, x and m. Ask the user to input the values."
   ]
  },
  {
   "cell_type": "code",
   "execution_count": 27,
   "metadata": {},
   "outputs": [],
   "source": [
    "import math"
   ]
  },
  {
   "cell_type": "code",
   "execution_count": null,
   "metadata": {},
   "outputs": [],
   "source": []
  },
  {
   "cell_type": "markdown",
   "metadata": {},
   "source": [
    "### x = float(input(\"Enter the value of x: \"))\n",
    "m = float(input(\"Enter the value of m: \"))\n",
    "\n",
    "while(1):\n",
    "    s = float(input(\"Enter the value of s: \"))\n",
    "    if s > 0:\n",
    "        bell = s * 2 * math.pi * math.exp(-12 * ((x - (m * s)) ** 2))\n",
    "        print(\"Gaussian Function =\", bell)\n",
    "        break\n",
    "        \n",
    "    else:\n",
    "        print(\"s should be greater than 0. Please enter the value of s again\")"
   ]
  },
  {
   "cell_type": "markdown",
   "metadata": {},
   "source": [
    "# 2.2 "
   ]
  },
  {
   "cell_type": "markdown",
   "metadata": {},
   "source": [
    "A car driver, driving at velocity v0, suddenly puts on the\n",
    "brake. What is braking distance d needed to stop the car?\n",
    "One can derive, using Newton’s second law of motion or a\n",
    "corresponding energy equation, that\n",
    "> d= v^2 / 2*u*g\n",
    "\n",
    "Make a program for computing d above equation, when the\n",
    "initial car velocity v0 and the friction coefficient µ are given on\n",
    "the command line. Run the program for two cases: v0 = 120 and\n",
    "v0 = 50 km/h, both with µ = 0.3 (µ is dimensionless).\n",
    "(Note: convert the velocity in m/s)"
   ]
  },
  {
   "cell_type": "code",
   "execution_count": 16,
   "metadata": {},
   "outputs": [
    {
     "name": "stdout",
     "output_type": "stream",
     "text": [
      "Braking distance for velocity 120.0 m/s = 188.96 m\n",
      "Braking distance for velocity 50.0 m/s = 32.81 m\n"
     ]
    }
   ],
   "source": [
    "v0 = [120.0, 50.0]\n",
    "g = 9.8\n",
    "u = 0.3\n",
    "\n",
    "for i in range(len(v0)):\n",
    "    dist = (((v0[i])/3.6)**2) / (2 * u * g)\n",
    "    print(\"Braking distance for velocity {} m/s = {:.2f} m\".format(v0[i], dist))"
   ]
  }
 ],
 "metadata": {
  "kernelspec": {
   "display_name": "Python 3",
   "language": "python",
   "name": "python3"
  },
  "language_info": {
   "codemirror_mode": {
    "name": "ipython",
    "version": 3
   },
   "file_extension": ".py",
   "mimetype": "text/x-python",
   "name": "python",
   "nbconvert_exporter": "python",
   "pygments_lexer": "ipython3",
   "version": "3.7.7"
  }
 },
 "nbformat": 4,
 "nbformat_minor": 4
}
