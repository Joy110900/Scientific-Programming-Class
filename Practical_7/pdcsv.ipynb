{
 "cells": [
  {
   "cell_type": "markdown",
   "metadata": {},
   "source": [
    "# Pandas"
   ]
  },
  {
   "cell_type": "markdown",
   "metadata": {},
   "source": [
    "Develop a python program that reads the data from a given CSV file, which is having phone usage data using a different branded mobile phone. Determine if the usage patterns for users differ between different devices. For\n",
    "example, do users using Samsung devices use more call minutes than those using LG devices?"
   ]
  },
  {
   "cell_type": "code",
   "execution_count": 1,
   "metadata": {},
   "outputs": [],
   "source": [
    "#Importing necessary libraries\n",
    "import pandas as pd\n",
    "import random as r\n",
    "import matplotlib.pyplot as plt"
   ]
  },
  {
   "cell_type": "code",
   "execution_count": 2,
   "metadata": {},
   "outputs": [],
   "source": [
    "#Defining some mobile brands to randomly choosing between them\n",
    "MobileBrands = [\"Samsung\", \"Apple\", \"Xiaomi\", \"Vivo\", \"OnePlus\", \"Oppo\", \"LG\", \"Nokia\", \"Nexus\", \"Asus\", \"Red\", \"Huawei\", \"Lenovo\", \"Sony\", \"Google\", \"HTC\", \"Panasonic\", \"Motorola\", \"Honor\"]"
   ]
  },
  {
   "cell_type": "code",
   "execution_count": 3,
   "metadata": {},
   "outputs": [],
   "source": [
    "#Generating a dict for Brand and respective call duration randomly\n",
    "data = {\"Brand\": [r.choice(MobileBrands) for i in range(100)], \"Call Duration\": [r.randint(1, 120) for i in range(100)]}"
   ]
  },
  {
   "cell_type": "code",
   "execution_count": 4,
   "metadata": {},
   "outputs": [
    {
     "data": {
      "text/html": [
       "<div>\n",
       "<style scoped>\n",
       "    .dataframe tbody tr th:only-of-type {\n",
       "        vertical-align: middle;\n",
       "    }\n",
       "\n",
       "    .dataframe tbody tr th {\n",
       "        vertical-align: top;\n",
       "    }\n",
       "\n",
       "    .dataframe thead th {\n",
       "        text-align: right;\n",
       "    }\n",
       "</style>\n",
       "<table border=\"1\" class=\"dataframe\">\n",
       "  <thead>\n",
       "    <tr style=\"text-align: right;\">\n",
       "      <th></th>\n",
       "      <th>Brand</th>\n",
       "      <th>Call Duration</th>\n",
       "    </tr>\n",
       "  </thead>\n",
       "  <tbody>\n",
       "    <tr>\n",
       "      <th>0</th>\n",
       "      <td>Google</td>\n",
       "      <td>16</td>\n",
       "    </tr>\n",
       "    <tr>\n",
       "      <th>1</th>\n",
       "      <td>Google</td>\n",
       "      <td>100</td>\n",
       "    </tr>\n",
       "    <tr>\n",
       "      <th>2</th>\n",
       "      <td>Asus</td>\n",
       "      <td>79</td>\n",
       "    </tr>\n",
       "    <tr>\n",
       "      <th>3</th>\n",
       "      <td>HTC</td>\n",
       "      <td>93</td>\n",
       "    </tr>\n",
       "    <tr>\n",
       "      <th>4</th>\n",
       "      <td>Asus</td>\n",
       "      <td>34</td>\n",
       "    </tr>\n",
       "    <tr>\n",
       "      <th>5</th>\n",
       "      <td>Samsung</td>\n",
       "      <td>95</td>\n",
       "    </tr>\n",
       "    <tr>\n",
       "      <th>6</th>\n",
       "      <td>Huawei</td>\n",
       "      <td>109</td>\n",
       "    </tr>\n",
       "    <tr>\n",
       "      <th>7</th>\n",
       "      <td>Red</td>\n",
       "      <td>16</td>\n",
       "    </tr>\n",
       "    <tr>\n",
       "      <th>8</th>\n",
       "      <td>Vivo</td>\n",
       "      <td>75</td>\n",
       "    </tr>\n",
       "    <tr>\n",
       "      <th>9</th>\n",
       "      <td>Apple</td>\n",
       "      <td>51</td>\n",
       "    </tr>\n",
       "  </tbody>\n",
       "</table>\n",
       "</div>"
      ],
      "text/plain": [
       "     Brand  Call Duration\n",
       "0   Google             16\n",
       "1   Google            100\n",
       "2     Asus             79\n",
       "3      HTC             93\n",
       "4     Asus             34\n",
       "5  Samsung             95\n",
       "6   Huawei            109\n",
       "7      Red             16\n",
       "8     Vivo             75\n",
       "9    Apple             51"
      ]
     },
     "execution_count": 4,
     "metadata": {},
     "output_type": "execute_result"
    }
   ],
   "source": [
    "#Using pandas to convert the dict to a dataframe\n",
    "df = pd.DataFrame(data)\n",
    "#Viewing the first 10 rows of a dataset \n",
    "df.head(10)"
   ]
  },
  {
   "cell_type": "code",
   "execution_count": 5,
   "metadata": {},
   "outputs": [
    {
     "name": "stdout",
     "output_type": "stream",
     "text": [
      "{'Google': 364, 'Asus': 522, 'HTC': 455, 'Samsung': 718, 'Huawei': 660, 'Red': 307, 'Vivo': 527, 'Apple': 155, 'Honor': 423, 'Nokia': 408, 'Oppo': 496, 'LG': 178, 'OnePlus': 129, 'Motorola': 306, 'Nexus': 109, 'Xiaomi': 325, 'Lenovo': 90, 'Panasonic': 186, 'Sony': 98}\n"
     ]
    }
   ],
   "source": [
    "#Making a dictionary for storing data of call duration of each brand\n",
    "calldata = {}\n",
    "for index, row in df.iterrows():\n",
    "    if row[\"Brand\"] not in calldata.keys():\n",
    "        calldata[row[\"Brand\"]] = row[\"Call Duration\"]\n",
    "\n",
    "    else:\n",
    "        calldata[row[\"Brand\"]] += row[\"Call Duration\"]\n",
    "\n",
    "print(calldata)"
   ]
  },
  {
   "cell_type": "code",
   "execution_count": 6,
   "metadata": {},
   "outputs": [
    {
     "name": "stdout",
     "output_type": "stream",
     "text": [
      "[('Samsung', 718), ('Huawei', 660), ('Vivo', 527), ('Asus', 522), ('Oppo', 496), ('HTC', 455), ('Honor', 423), ('Nokia', 408), ('Google', 364), ('Xiaomi', 325), ('Red', 307), ('Motorola', 306), ('Panasonic', 186), ('LG', 178), ('Apple', 155), ('OnePlus', 129), ('Nexus', 109), ('Sony', 98), ('Lenovo', 90)]\n"
     ]
    }
   ],
   "source": [
    "#Sorting the data in descending order for comparision\n",
    "sorted_calldata = sorted(calldata.items(), key=lambda x: x[1], reverse=True)\n",
    "print(sorted_calldata)"
   ]
  },
  {
   "cell_type": "code",
   "execution_count": 7,
   "metadata": {},
   "outputs": [
    {
     "data": {
      "image/png": "[encoded data removed]",
      "text/plain": [
       "<Figure size 432x288 with 1 Axes>"
      ]
     },
     "metadata": {
      "needs_background": "light"
     },
     "output_type": "display_data"
    }
   ],
   "source": [
    "#Plotting the comparition in call duration between each brand\n",
    "plt.title(\"Call Duration Comparition\")\n",
    "plt.xlabel(\"Phone Brands\")\n",
    "plt.ylabel(\"Call Duration (mins)\")\n",
    "plt.bar(*zip(*calldata.items()))\n",
    "plt.xticks(rotation=90)\n",
    "plt.show()"
   ]
  }
 ],
 "metadata": {
  "kernelspec": {
   "display_name": "Python 3.7.7 64-bit ('datascience': conda)",
   "language": "python",
   "name": "python37764bitdatascienceconda67e0b92c992c46d7a01f8ce74cfb6bf2"
  },
  "language_info": {
   "codemirror_mode": {
    "name": "ipython",
    "version": 3
   },
   "file_extension": ".py",
   "mimetype": "text/x-python",
   "name": "python",
   "nbconvert_exporter": "python",
   "pygments_lexer": "ipython3",
   "version": "3.7.7"
  }
 },
 "nbformat": 4,
 "nbformat_minor": 2
}
