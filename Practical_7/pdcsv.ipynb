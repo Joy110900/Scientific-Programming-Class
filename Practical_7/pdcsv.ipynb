{
 "cells": [
  {
   "cell_type": "markdown",
   "metadata": {},
   "source": [
    "# Pandas"
   ]
  },
  {
   "cell_type": "markdown",
   "metadata": {},
   "source": [
    "Develop a python program that reads the data from a given CSV file, which is having phone usage data using a different branded mobile phone. Determine if the usage patterns for users differ between different devices. For\n",
    "example, do users using Samsung devices use more call minutes than those using LG devices?"
   ]
  },
  {
   "cell_type": "code",
   "execution_count": 1,
   "metadata": {},
   "outputs": [],
   "source": [
    "#Importing necessary libraries\n",
    "import pandas as pd\n",
    "import random as r\n",
    "import matplotlib.pyplot as plt"
   ]
  },
  {
   "cell_type": "code",
   "execution_count": 2,
   "metadata": {},
   "outputs": [],
   "source": [
    "#Defining some mobile brands to randomly choosing between them\n",
    "MobileBrands = [\"Samsung\", \"Apple\", \"Xiaomi\", \"Vivo\", \"OnePlus\", \"Oppo\", \"LG\", \"Nokia\", \"Nexus\", \"Asus\", \"Red\", \"Huawei\", \"Lenovo\", \"Sony\", \"Google\", \"HTC\", \"Panasonic\", \"Motorola\", \"Honor\"]"
   ]
  },
  {
   "cell_type": "code",
   "execution_count": 3,
   "metadata": {},
   "outputs": [],
   "source": [
    "#Generating a dict for Brand and respective call duration randomly\n",
    "data = {\"Brand\": [r.choice(MobileBrands) for i in range(100)], \"Call Duration\": [r.randint(1, 120) for i in range(100)]}"
   ]
  },
  {
   "cell_type": "code",
   "execution_count": 4,
   "metadata": {},
   "outputs": [
    {
     "data": {
      "text/html": [
       "<div>\n",
       "<style scoped>\n",
       "    .dataframe tbody tr th:only-of-type {\n",
       "        vertical-align: middle;\n",
       "    }\n",
       "\n",
       "    .dataframe tbody tr th {\n",
       "        vertical-align: top;\n",
       "    }\n",
       "\n",
       "    .dataframe thead th {\n",
       "        text-align: right;\n",
       "    }\n",
       "</style>\n",
       "<table border=\"1\" class=\"dataframe\">\n",
       "  <thead>\n",
       "    <tr style=\"text-align: right;\">\n",
       "      <th></th>\n",
       "      <th>Brand</th>\n",
       "      <th>Call Duration</th>\n",
       "    </tr>\n",
       "  </thead>\n",
       "  <tbody>\n",
       "    <tr>\n",
       "      <th>0</th>\n",
       "      <td>HTC</td>\n",
       "      <td>110</td>\n",
       "    </tr>\n",
       "    <tr>\n",
       "      <th>1</th>\n",
       "      <td>Vivo</td>\n",
       "      <td>77</td>\n",
       "    </tr>\n",
       "    <tr>\n",
       "      <th>2</th>\n",
       "      <td>HTC</td>\n",
       "      <td>85</td>\n",
       "    </tr>\n",
       "    <tr>\n",
       "      <th>3</th>\n",
       "      <td>OnePlus</td>\n",
       "      <td>47</td>\n",
       "    </tr>\n",
       "    <tr>\n",
       "      <th>4</th>\n",
       "      <td>Vivo</td>\n",
       "      <td>85</td>\n",
       "    </tr>\n",
       "    <tr>\n",
       "      <th>5</th>\n",
       "      <td>HTC</td>\n",
       "      <td>102</td>\n",
       "    </tr>\n",
       "    <tr>\n",
       "      <th>6</th>\n",
       "      <td>Google</td>\n",
       "      <td>66</td>\n",
       "    </tr>\n",
       "    <tr>\n",
       "      <th>7</th>\n",
       "      <td>Panasonic</td>\n",
       "      <td>92</td>\n",
       "    </tr>\n",
       "    <tr>\n",
       "      <th>8</th>\n",
       "      <td>OnePlus</td>\n",
       "      <td>88</td>\n",
       "    </tr>\n",
       "    <tr>\n",
       "      <th>9</th>\n",
       "      <td>Samsung</td>\n",
       "      <td>78</td>\n",
       "    </tr>\n",
       "  </tbody>\n",
       "</table>\n",
       "</div>"
      ],
      "text/plain": [
       "       Brand  Call Duration\n",
       "0        HTC            110\n",
       "1       Vivo             77\n",
       "2        HTC             85\n",
       "3    OnePlus             47\n",
       "4       Vivo             85\n",
       "5        HTC            102\n",
       "6     Google             66\n",
       "7  Panasonic             92\n",
       "8    OnePlus             88\n",
       "9    Samsung             78"
      ]
     },
     "execution_count": 4,
     "metadata": {},
     "output_type": "execute_result"
    }
   ],
   "source": [
    "#Using pandas to convert the dict to a dataframe\n",
    "df = pd.DataFrame(data)\n",
    "#Viewing the first 10 rows of a dataset \n",
    "df.head(10)"
   ]
  },
  {
   "cell_type": "code",
   "execution_count": 5,
   "metadata": {},
   "outputs": [],
   "source": [
    "#Saving the dataframe to a csv file\n",
    "df.to_csv('phone_data.csv')"
   ]
  },
  {
   "cell_type": "code",
   "execution_count": 6,
   "metadata": {},
   "outputs": [
    {
     "name": "stdout",
     "output_type": "stream",
     "text": [
      "{'HTC': 765, 'Vivo': 310, 'OnePlus': 396, 'Google': 66, 'Panasonic': 498, 'Samsung': 334, 'Xiaomi': 511, 'Honor': 490, 'Oppo': 435, 'Nexus': 175, 'Apple': 277, 'Motorola': 428, 'Huawei': 558, 'Asus': 526, 'Nokia': 291, 'Sony': 323, 'LG': 318, 'Red': 58}\n"
     ]
    }
   ],
   "source": [
    "#Making a dictionary for storing data of call duration of each brand\n",
    "calldata = {}\n",
    "for index, row in df.iterrows():\n",
    "    if row[\"Brand\"] not in calldata.keys():\n",
    "        calldata[row[\"Brand\"]] = row[\"Call Duration\"]\n",
    "\n",
    "    else:\n",
    "        calldata[row[\"Brand\"]] += row[\"Call Duration\"]\n",
    "\n",
    "print(calldata)"
   ]
  },
  {
   "cell_type": "code",
   "execution_count": 7,
   "metadata": {},
   "outputs": [
    {
     "name": "stdout",
     "output_type": "stream",
     "text": [
      "[('HTC', 765), ('Huawei', 558), ('Asus', 526), ('Xiaomi', 511), ('Panasonic', 498), ('Honor', 490), ('Oppo', 435), ('Motorola', 428), ('OnePlus', 396), ('Samsung', 334), ('Sony', 323), ('LG', 318), ('Vivo', 310), ('Nokia', 291), ('Apple', 277), ('Nexus', 175), ('Google', 66), ('Red', 58)]\n"
     ]
    }
   ],
   "source": [
    "#Sorting the data in descending order for comparision\n",
    "sorted_calldata = sorted(calldata.items(), key=lambda x: x[1], reverse=True)\n",
    "print(sorted_calldata)"
   ]
  },
  {
   "cell_type": "code",
   "execution_count": 8,
   "metadata": {},
   "outputs": [
    {
     "data": {
      "image/png": "[encoded data removed]",
      "text/plain": [
       "<Figure size 432x288 with 1 Axes>"
      ]
     },
     "metadata": {
      "needs_background": "light"
     },
     "output_type": "display_data"
    }
   ],
   "source": [
    "#Plotting the comparition in call duration between each brand\n",
    "plt.title(\"Call Duration Comparition\")\n",
    "plt.xlabel(\"Phone Brands\")\n",
    "plt.ylabel(\"Call Duration (mins)\")\n",
    "plt.bar(*zip(*calldata.items()))\n",
    "plt.xticks(rotation=90)\n",
    "plt.show()"
   ]
  }
 ],
 "metadata": {
  "kernelspec": {
   "display_name": "Python 3.7.7 64-bit ('datascience': conda)",
   "language": "python",
   "name": "python37764bitdatascienceconda67e0b92c992c46d7a01f8ce74cfb6bf2"
  },
  "language_info": {
   "codemirror_mode": {
    "name": "ipython",
    "version": 3
   },
   "file_extension": ".py",
   "mimetype": "text/x-python",
   "name": "python",
   "nbconvert_exporter": "python",
   "pygments_lexer": "ipython3",
   "version": "3.7.7"
  }
 },
 "nbformat": 4,
 "nbformat_minor": 2
}
