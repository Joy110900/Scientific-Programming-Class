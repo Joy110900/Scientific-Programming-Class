{
 "metadata": {
  "language_info": {
   "codemirror_mode": {
    "name": "ipython",
    "version": 3
   },
   "file_extension": ".py",
   "mimetype": "text/x-python",
   "name": "python",
   "nbconvert_exporter": "python",
   "pygments_lexer": "ipython3",
   "version": "3.7.7-final"
  },
  "orig_nbformat": 2,
  "kernelspec": {
   "name": "python37764bitdatascienceconda67e0b92c992c46d7a01f8ce74cfb6bf2",
   "display_name": "Python 3.7.7 64-bit ('datascience': conda)"
  }
 },
 "nbformat": 4,
 "nbformat_minor": 2,
 "cells": [
  {
   "cell_type": "code",
   "execution_count": 1,
   "metadata": {},
   "outputs": [],
   "source": [
    "import pandas as pd\n",
    "import random as r"
   ]
  },
  {
   "cell_type": "code",
   "execution_count": 2,
   "metadata": {},
   "outputs": [],
   "source": [
    "MobileBrands = [\"Samsung\", \"Apple\", \"Xiaomi\", \"Vivo\", \"OnePlus\", \"Oppo\", \"LG\", \"Nokia\", \"Nexus\", \"Asus\", \"Red\", \"Huawei\", \"Lenovo\", \"Sony\", \"Google\", \"HTC\", \"Panasonic\", \"Motorola\", \"Honor\"]"
   ]
  },
  {
   "cell_type": "code",
   "execution_count": 7,
   "metadata": {},
   "outputs": [],
   "source": [
    "data = {\"Brand\": [r.choice(MobileBrands) for i in range(100)], \"Call Duration\": [r.randint(1, 120) for i in range(100)]}"
   ]
  },
  {
   "cell_type": "code",
   "execution_count": 11,
   "metadata": {},
   "outputs": [
    {
     "output_type": "execute_result",
     "data": {
      "text/plain": [
       "     Brand  Call Duration\n",
       "0   Xiaomi            118\n",
       "1    Honor             62\n",
       "2    Honor            109\n",
       "3     Sony            108\n",
       "4  OnePlus             27\n",
       "5   Xiaomi             21\n",
       "6   Lenovo             84\n",
       "7     Sony             63\n",
       "8     Oppo            100\n",
       "9    Nexus             60"
      ],
      "text/html": "<div>\n<style scoped>\n    .dataframe tbody tr th:only-of-type {\n        vertical-align: middle;\n    }\n\n    .dataframe tbody tr th {\n        vertical-align: top;\n    }\n\n    .dataframe thead th {\n        text-align: right;\n    }\n</style>\n<table border=\"1\" class=\"dataframe\">\n  <thead>\n    <tr style=\"text-align: right;\">\n      <th></th>\n      <th>Brand</th>\n      <th>Call Duration</th>\n    </tr>\n  </thead>\n  <tbody>\n    <tr>\n      <th>0</th>\n      <td>Xiaomi</td>\n      <td>118</td>\n    </tr>\n    <tr>\n      <th>1</th>\n      <td>Honor</td>\n      <td>62</td>\n    </tr>\n    <tr>\n      <th>2</th>\n      <td>Honor</td>\n      <td>109</td>\n    </tr>\n    <tr>\n      <th>3</th>\n      <td>Sony</td>\n      <td>108</td>\n    </tr>\n    <tr>\n      <th>4</th>\n      <td>OnePlus</td>\n      <td>27</td>\n    </tr>\n    <tr>\n      <th>5</th>\n      <td>Xiaomi</td>\n      <td>21</td>\n    </tr>\n    <tr>\n      <th>6</th>\n      <td>Lenovo</td>\n      <td>84</td>\n    </tr>\n    <tr>\n      <th>7</th>\n      <td>Sony</td>\n      <td>63</td>\n    </tr>\n    <tr>\n      <th>8</th>\n      <td>Oppo</td>\n      <td>100</td>\n    </tr>\n    <tr>\n      <th>9</th>\n      <td>Nexus</td>\n      <td>60</td>\n    </tr>\n  </tbody>\n</table>\n</div>"
     },
     "metadata": {},
     "execution_count": 11
    }
   ],
   "source": [
    "df = pd.DataFrame(data)\n",
    "df.head(10)"
   ]
  },
  {
   "cell_type": "code",
   "execution_count": 16,
   "metadata": {},
   "outputs": [
    {
     "output_type": "stream",
     "name": "stdout",
     "text": [
      "{'Xiaomi': 501, 'Honor': 697, 'Sony': 279, 'OnePlus': 552, 'Lenovo': 488, 'Oppo': 139, 'Nexus': 470, 'Motorola': 374, 'Nokia': 321, 'Apple': 304, 'Google': 608, 'Huawei': 464, 'Samsung': 150, 'Red': 234, 'LG': 15, 'HTC': 273, 'Panasonic': 101, 'Vivo': 131, 'Asus': 42}\n"
     ]
    }
   ],
   "source": [
    "calldata = {}\n",
    "for index, row in df.iterrows():\n",
    "    if row[\"Brand\"] not in calldata.keys():\n",
    "        calldata[row[\"Brand\"]] = row[\"Call Duration\"]\n",
    "\n",
    "    else:\n",
    "        calldata[row[\"Brand\"]] += row[\"Call Duration\"]\n",
    "\n",
    "print(calldata)"
   ]
  },
  {
   "cell_type": "code",
   "execution_count": 19,
   "metadata": {},
   "outputs": [
    {
     "output_type": "stream",
     "name": "stdout",
     "text": [
      "[('Honor', 697), ('Google', 608), ('OnePlus', 552), ('Xiaomi', 501), ('Lenovo', 488), ('Nexus', 470), ('Huawei', 464), ('Motorola', 374), ('Nokia', 321), ('Apple', 304), ('Sony', 279), ('HTC', 273), ('Red', 234), ('Samsung', 150), ('Oppo', 139), ('Vivo', 131), ('Panasonic', 101), ('Asus', 42), ('LG', 15)]\n"
     ]
    }
   ],
   "source": [
    "sorted_calldata = sorted(calldata.items(), key=lambda x: x[1], reverse=True)\n",
    "print(sorted_calldata)"
   ]
  }
 ]
}