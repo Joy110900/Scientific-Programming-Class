{
 "cells": [
  {
   "cell_type": "markdown",
   "metadata": {},
   "source": [
    "# 10\n",
    "Video Processing\n",
    "\n",
    "Develop a python program which takes the video as an argument and extract all the frames from a video. Select specific frames and recreate the video, which has selected frames only."
   ]
  },
  {
   "cell_type": "code",
   "execution_count": 1,
   "metadata": {},
   "outputs": [],
   "source": [
    "#Importing libraries\n",
    "import cv2\n",
    "import glob\n",
    "\n",
    "def video_from_frames(path):\n",
    "    \n",
    "    cap = cv2.VideoCapture(path) \n",
    "\n",
    "    \n",
    "    #Initialising counter\n",
    "    count = 0\n",
    "\n",
    "    #while opening video\n",
    "    while cap.isOpened():\n",
    "        ret, frame = cap.read()\n",
    "\n",
    "        #until frames last\n",
    "        if ret:\n",
    "            cv2.imwrite('frame{:d}.jpg'.format(count), frame)\n",
    "            count += 30 # saving every 30 frames\n",
    "            cap.set(1, count)\n",
    "        else:\n",
    "            cap.release()\n",
    "            break\n",
    "    #array to save the image files which will form new video\n",
    "    img_array = []\n",
    "    for filename in glob.glob('*.jpg'):\n",
    "        img = cv2.imread(filename)  #reading images\n",
    "        height, width, layers = img.shape\n",
    "        size = (width,height)\n",
    "        img_array.append(img)       #appending it to image array\n",
    "\n",
    "    out = cv2.VideoWriter('finalvid.avi',cv2.VideoWriter_fourcc(*'DIVX'), 15, size)  #creating video with the available images\n",
    "    \n",
    "    for i in range(len(img_array)):\n",
    "        out.write(img_array[i])\n",
    "    out.release()"
   ]
  },
  {
   "cell_type": "code",
   "execution_count": 2,
   "metadata": {},
   "outputs": [],
   "source": [
    "video_from_frames(\"demovid.mp4\")"
   ]
  }
 ],
 "metadata": {
  "kernelspec": {
   "display_name": "Python 3",
   "language": "python",
   "name": "python3"
  },
  "language_info": {
   "codemirror_mode": {
    "name": "ipython",
    "version": 3
   },
   "file_extension": ".py",
   "mimetype": "text/x-python",
   "name": "python",
   "nbconvert_exporter": "python",
   "pygments_lexer": "ipython3",
   "version": "3.7.7"
  }
 },
 "nbformat": 4,
 "nbformat_minor": 2
}
